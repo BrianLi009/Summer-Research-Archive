{
 "cells": [
  {
   "cell_type": "code",
   "execution_count": 31,
   "metadata": {
    "collapsed": false
   },
   "outputs": [
    {
     "name": "stdout",
     "output_type": "stream",
     "text": [
      "Is the list de Bruijn? True\n",
      "How long is the list? 27\n",
      "[0, 0, 0, 1, 0, 1, 2, 1, 1, 2, 0, 1, 1, 1, 0, 0, 2, 0, 2, 1, 2, 2, 1, 0, 2, 2, 2]\n"
     ]
    }
   ],
   "source": [
    "\n",
    "\n",
    "\n",
    "# The details of this construction appear in:\n",
    "# De Bruijn Sequences-A Model Example of the Interaction of Discrete Mathematics and Computer Science by Anthony Ralston in Mathematics Magazine Vol. 55, No. 3 (May, 1982), pp. 131-143 \n",
    "\n",
    "# Essentially, you need a \"primitive polynomial\" which generates the multiplicative group of F(p^k).\n",
    "# For details about primitive polynomials, see: https://en.wikipedia.org/wiki/Primitive_polynomial_(field_theory)\n",
    "\n",
    "# There are only Totient(3^3-1)/3 = 4 primitive polynomials for F(3^3).\n",
    "# Using the following table of primitive polynomials:\n",
    "#      https://baylor-ir.tdl.org/bitstream/handle/2104/8793/GF3%20Polynomials.pdf?sequence=1&isAllowed=y\n",
    "# Prepared by Peter M. Maurer of Baylor University\n",
    "# We get:\n",
    "#     Degree 2 \n",
    "#         112 122 \n",
    "#     Degree 3 \n",
    "#         1021 1121 1201 1211\n",
    "\n",
    "# Thus,\n",
    "#    x^3 + 2x + 1 is irreducible in F_3(x)\n",
    "#    x^3 + 2x^2 + 1 is irreducible in F_3(x)\n",
    "#    AND both are primitive (1021) and (1201).\n",
    "\n",
    "deBruijn=[0,0,0,1];\n",
    "\n",
    "N = 0;\n",
    "\n",
    "while N < 27-4:\n",
    "    # We choose the primite polynomial x^3 + 0x^2 + 2x + 1 = 0.\n",
    "    # This gives us the following: x^3 + 0x^2 + 2x + 1 = 0 <==> x^3 = -1 - 2x = x + 2 mod 3\n",
    "    # By the construction in Ralston's article the recurrence relation is: b_n = b_{n-2} + 2b_{n-3} mod 3\n",
    "    deBruijn.append((deBruijn[-2] + 2*deBruijn[-3]) % 3); \n",
    "    N += 1;\n",
    "\n",
    "def CheckdeBruijn(deck,window_length):\n",
    "    \"\"\" This function checks if a cyclically extended list is de Bruijn.\"\"\"\n",
    "    IsdeBruijn=True;\n",
    "    \n",
    "    lookup_table = dict();\n",
    "    inner = deck.copy();\n",
    "    \n",
    "    # enlarge the deck to be cyclic\n",
    "    inner.extend(inner[0:window_length-1]);\n",
    "    \n",
    "    for i in range(0,len(inner) - window_length + 1):\n",
    "        cards = list(inner[i:i+window_length]);\n",
    "        if not(str(cards) in lookup_table):\n",
    "            lookup_table[str(cards)] = i;\n",
    "        else:\n",
    "            print(\"Repeat of \" + str(cards) + \" at \" + str(i));\n",
    "            IsdeBruijn=False;\n",
    "            return IsdeBruijn;\n",
    "    return IsdeBruijn;\n",
    "\n",
    "\n",
    "print(\"Is the list de Bruijn? \" + str(CheckdeBruijn(deBruijn,3)));\n",
    "print(\"How long is the list? \" + str(len(deBruijn)));\n",
    "print(deBruijn);\n",
    "\n",
    "\n",
    "# For the sake of completeness, we include where Tom's sequence comes from:\n",
    "# Using the table of primitive polynomials:\n",
    "#\n",
    "# Degree 4 \n",
    "#    10012 \n",
    "#    10022 (***)\n",
    "#    11002 \n",
    "#    11122 \n",
    "#    11222 \n",
    "#    12002\n",
    "#    12112\n",
    "#    12212\n",
    "\n",
    "# Using the primitive polynomial 10022 we get:\n",
    "#     x^4 + 0x^3 + 0x^2 + 2x + 2 = 0 <==> x^4 = -2x - 2 = x + 1 mod 3\n",
    "#\n",
    "# Converting this in to a recurrence relation:\n",
    "#     b_n = b_{n-3} + b_{n-4} mod 3\n"
   ]
  },
  {
   "cell_type": "code",
   "execution_count": 20,
   "metadata": {
    "collapsed": false
   },
   "outputs": [
    {
     "name": "stdout",
     "output_type": "stream",
     "text": [
      "[0, 0, 0]\n",
      "[0, 0, 0, 1, 0, 1, 2, 1, 1, 2, 0, 1, 1, 1, 0, 0, 2, 0, 2, 1, 2, 2, 1, 0, 2, 2, 2, [0, 0], [0, 0, 0], [0, 0, 0], [0, 0, 0], 0, 0, 0]\n"
     ]
    }
   ],
   "source": [
   ]
  }
 ],
 "metadata": {
  "kernelspec": {
   "display_name": "Python 3 (system-wide)",
   "language": "python",
   "metadata": {
    "cocalc": {
     "description": "Python 3 programming language",
     "priority": 100,
     "url": "https://www.python.org/"
    }
   },
   "name": "python3"
  },
  "language_info": {
   "codemirror_mode": {
    "name": "ipython",
    "version": 3
   },
   "file_extension": ".py",
   "mimetype": "text/x-python",
   "name": "python",
   "nbconvert_exporter": "python",
   "pygments_lexer": "ipython3",
   "version": "3.6.9"
  }
 },
 "nbformat": 4,
 "nbformat_minor": 4
}