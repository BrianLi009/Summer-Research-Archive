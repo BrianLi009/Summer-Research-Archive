{
 "cells": [
  {
   "cell_type": "code",
   "execution_count": 12,
   "metadata": {
    "collapsed": false
   },
   "outputs": [
   ],
   "source": [
    "import numpy as np\n",
    "import matplotlib.pyplot as plt\n",
    "import math\n",
    "import itertools\n",
    "import random"
   ]
  },
  {
   "cell_type": "code",
   "execution_count": 13,
   "metadata": {
    "collapsed": false
   },
   "outputs": [
   ],
   "source": [
    "def parity(dim):\n",
    "    \"\"\"this function simulate a boolean function \"Even or Odd\"\"\"\n",
    "    combinations = list(itertools.product([-1, 1], repeat=dim)) #this gives you a list of tuple with all the binary combinations with length = dim\n",
    "    dict = {}\n",
    "    for tuple in combinations:\n",
    "        if tuple.count(1)%2 == 0:\n",
    "            dict[tuple] = -1\n",
    "        else:\n",
    "            dict[tuple] = 1\n",
    "    return dict"
   ]
  },
  {
   "cell_type": "code",
   "execution_count": 14,
   "metadata": {
    "collapsed": false
   },
   "outputs": [
   ],
   "source": [
    "def majority(dim):\n",
    "    \"\"\"this function simulate a boolean function \"Are the majority of the inputs one\"\"\"\n",
    "    combinations = list(itertools.product([-1, 1], repeat=dim)) #this gives you a list of tuple with all the binary combinations with length = dim\n",
    "    dict = {}\n",
    "    for tuple in combinations:\n",
    "        if tuple.count(1) > tuple.count(-1):\n",
    "            dict[tuple] = 1\n",
    "        else:\n",
    "            dict[tuple] = -1\n",
    "    return dict"
   ]
  },
  {
   "cell_type": "code",
   "execution_count": 15,
   "metadata": {
    "collapsed": false
   },
   "outputs": [
   ],
   "source": [
    "def and_function(dim):\n",
    "    \"\"\"this function simulate a boolean function \"Is everything equal to one?\"\"\"\n",
    "    combinations = list(itertools.product([-1, 1], repeat=dim)) #this gives you a list of tuple with all the binary combinations with length = dim\n",
    "    dict = {}\n",
    "    for tuple in combinations:\n",
    "        if -1 not in tuple:\n",
    "            dict[tuple] = 1\n",
    "        else:\n",
    "            dict[tuple] = -1\n",
    "    return dict"
   ]
  },
  {
   "cell_type": "code",
   "execution_count": 19,
   "metadata": {
    "collapsed": false
   },
   "outputs": [
   ],
   "source": [
    "def edit_tuple(t, index, new):\n",
    "    lst = list(t)\n",
    "    lst[index] = new\n",
    "    return tuple(lst)"
   ]
  },
  {
   "cell_type": "code",
   "execution_count": 20,
   "metadata": {
    "collapsed": false
   },
   "outputs": [
   ],
   "source": [
    "def calculate_influence(dict, bit):\n",
    "    \"\"\"calculate influence when one bit is flipped\"\"\"\n",
    "    count = 0\n",
    "    total = 0\n",
    "    for item in dict:\n",
    "        original = dict[item]\n",
    "        if item[bit]==-1:\n",
    "            item = edit_tuple(item, bit, 1)\n",
    "        else:\n",
    "            item = edit_tuple(item, bit, -1)\n",
    "        if dict[item] != original:\n",
    "            count += 1\n",
    "            total += 1\n",
    "        else:\n",
    "            total +=1\n",
    "    return count / total"
   ]
  },
  {
   "cell_type": "code",
   "execution_count": 21,
   "metadata": {
    "collapsed": false
   },
   "outputs": [
   ],
   "source": [
    "def calculate_total_influence(dict):\n",
    "    total = 0\n",
    "    length = len(next(iter(dict)))\n",
    "    for i in range(length):\n",
    "        print (\"bit\" + str(i) + \" has influence \" + str(calculate_influence(dict, i)))\n",
    "        total += calculate_influence(dict, i)\n",
    "    return total"
   ]
  },
  {
   "cell_type": "code",
   "execution_count": 39,
   "metadata": {
    "collapsed": false
   },
   "outputs": [
   ],
   "source": [
    "def set_influence(dict, start, end):\n",
    "    #start is inclusive, end is exclusive\n",
    "    count = 0\n",
    "    total = 0\n",
    "    for item in dict:\n",
    "        original_output = dict[item]\n",
    "        for bits in item[start:end]:\n",
    "            if bits == 1:\n",
    "                item = edit_tuple(item, item[start:end].index(bits), -1)\n",
    "            else:\n",
    "                item = edit_tuple(item, item[start:end].index(bits), 1)\n",
    "        if dict[item] != original_output:\n",
    "            count +=1\n",
    "            total += 1\n",
    "        else:\n",
    "            total += 1\n",
    "    return count / total"
   ]
  },
  {
   "cell_type": "code",
   "execution_count": 23,
   "metadata": {
    "collapsed": false
   },
   "outputs": [
   ],
   "source": [
    "def stability(function, ro):\n",
    "    i = 0\n",
    "    num_change = 0\n",
    "    total = 0\n",
    "    while i < 1000: # randomly sample it a thousand times\n",
    "        for key, value in function.items():\n",
    "            y = []\n",
    "            for bit in key:\n",
    "                if bit == 1:\n",
    "                    population = [bit, -1]\n",
    "                if bit == -1:\n",
    "                    population = [bit, 1]\n",
    "                weights = [ro*100 + (1-ro)*100/2, (1-ro)*100/2]\n",
    "                bit = random.choices(population, weights)\n",
    "                y.append(bit[0])\n",
    "            y = tuple(y)\n",
    "            if function[y] != value:\n",
    "                num_change += 1\n",
    "                total += 1\n",
    "            else:\n",
    "                total += 1\n",
    "        i += 1\n",
    "    prob = num_change/total\n",
    "    return (1-2*prob)"
   ]
  },
  {
   "cell_type": "code",
   "execution_count": 52,
   "metadata": {
    "collapsed": false
   },
   "outputs": [
   ],
   "source": [
    "function = parity(5)"
   ]
  },
  {
   "cell_type": "code",
   "execution_count": 55,
   "metadata": {
    "collapsed": false
   },
   "outputs": [
    {
     "data": {
      "text/plain": [
       "0.0"
      ]
     },
     "execution_count": 55,
     "metadata": {
     },
     "output_type": "execute_result"
    }
   ],
   "source": [
    "set_influence(function, 0, 2)"
   ]
  },
  {
   "cell_type": "code",
   "execution_count": 0,
   "metadata": {
    "collapsed": false
   },
   "outputs": [
   ],
   "source": [
   ]
  }
 ],
 "metadata": {
  "kernelspec": {
   "display_name": "Python 3 (system-wide)",
   "language": "python",
   "metadata": {
    "cocalc": {
     "description": "Python 3 programming language",
     "priority": 100,
     "url": "https://www.python.org/"
    }
   },
   "name": "python3"
  },
  "language_info": {
   "codemirror_mode": {
    "name": "ipython",
    "version": 3
   },
   "file_extension": ".py",
   "mimetype": "text/x-python",
   "name": "python",
   "nbconvert_exporter": "python",
   "pygments_lexer": "ipython3",
   "version": "3.6.9"
  }
 },
 "nbformat": 4,
 "nbformat_minor": 4
}