{
 "cells": [
  {
   "cell_type": "code",
   "execution_count": 2,
   "metadata": {
    "collapsed": false
   },
   "outputs": [
   ],
   "source": [
    "#assumption: it is possible to complete the trick \"decode the set\" by asking three questions only\n",
    "#we will trying to generate such deck with 27 cards, all with number of shapes = 1\n",
    "#we have 4 properties on each card, its shading (shade = type1, type2, type3), color (color = color1, color2, color3), shape (shape1, shape2, shape3), and number of shape (shape_num = 1, 2, 3)\n",
    "#A card should be defined as a dictionary such that: card = {shade: type1, color: color2, shape: shape3, shape_num: 1}\n",
    "import random\n",
    "import itertools"
   ]
  },
  {
   "cell_type": "code",
   "execution_count": 3,
   "metadata": {
    "collapsed": false
   },
   "outputs": [
   ],
   "source": [
    "shade = [\"type1\", \"type2\", \"type3\"]\n",
    "color = [\"color1\", \"color2\", \"color3\"]\n",
    "shape = [\"shape1\", \"shape2\", \"shape3\"]\n",
    "shape_num = [1, 2, 3]"
   ]
  },
  {
   "cell_type": "code",
   "execution_count": 4,
   "metadata": {
    "collapsed": false
   },
   "outputs": [
   ],
   "source": [
    "#generate all 27 cards with shape_num=1\n",
    "card_lst=[]\n",
    "for s in shade:\n",
    "    for c in color:\n",
    "        for p in shape:\n",
    "            dict = {\"shade\": s, \"color\": c, \"shape\": p}\n",
    "            card_lst.append(dict)"
   ]
  },
  {
   "cell_type": "code",
   "execution_count": 5,
   "metadata": {
    "collapsed": false
   },
   "outputs": [
    {
     "data": {
      "text/plain": [
       "27"
      ]
     },
     "execution_count": 5,
     "metadata": {
     },
     "output_type": "execute_result"
    }
   ],
   "source": [
    "len(card_lst) "
   ]
  },
  {
   "cell_type": "code",
   "execution_count": 6,
   "metadata": {
    "collapsed": false
   },
   "outputs": [
    {
     "data": {
      "text/plain": [
       "[{'shade': 'type1', 'color': 'color1', 'shape': 'shape1'},\n",
       " {'shade': 'type1', 'color': 'color1', 'shape': 'shape2'},\n",
       " {'shade': 'type1', 'color': 'color1', 'shape': 'shape3'},\n",
       " {'shade': 'type1', 'color': 'color2', 'shape': 'shape1'},\n",
       " {'shade': 'type1', 'color': 'color2', 'shape': 'shape2'},\n",
       " {'shade': 'type1', 'color': 'color2', 'shape': 'shape3'},\n",
       " {'shade': 'type1', 'color': 'color3', 'shape': 'shape1'},\n",
       " {'shade': 'type1', 'color': 'color3', 'shape': 'shape2'},\n",
       " {'shade': 'type1', 'color': 'color3', 'shape': 'shape3'},\n",
       " {'shade': 'type2', 'color': 'color1', 'shape': 'shape1'},\n",
       " {'shade': 'type2', 'color': 'color1', 'shape': 'shape2'},\n",
       " {'shade': 'type2', 'color': 'color1', 'shape': 'shape3'},\n",
       " {'shade': 'type2', 'color': 'color2', 'shape': 'shape1'},\n",
       " {'shade': 'type2', 'color': 'color2', 'shape': 'shape2'},\n",
       " {'shade': 'type2', 'color': 'color2', 'shape': 'shape3'},\n",
       " {'shade': 'type2', 'color': 'color3', 'shape': 'shape1'},\n",
       " {'shade': 'type2', 'color': 'color3', 'shape': 'shape2'},\n",
       " {'shade': 'type2', 'color': 'color3', 'shape': 'shape3'},\n",
       " {'shade': 'type3', 'color': 'color1', 'shape': 'shape1'},\n",
       " {'shade': 'type3', 'color': 'color1', 'shape': 'shape2'},\n",
       " {'shade': 'type3', 'color': 'color1', 'shape': 'shape3'},\n",
       " {'shade': 'type3', 'color': 'color2', 'shape': 'shape1'},\n",
       " {'shade': 'type3', 'color': 'color2', 'shape': 'shape2'},\n",
       " {'shade': 'type3', 'color': 'color2', 'shape': 'shape3'},\n",
       " {'shade': 'type3', 'color': 'color3', 'shape': 'shape1'},\n",
       " {'shade': 'type3', 'color': 'color3', 'shape': 'shape2'},\n",
       " {'shade': 'type3', 'color': 'color3', 'shape': 'shape3'}]"
      ]
     },
     "execution_count": 6,
     "metadata": {
     },
     "output_type": "execute_result"
    }
   ],
   "source": [
    "card_lst"
   ]
  },
  {
   "cell_type": "code",
   "execution_count": 7,
   "metadata": {
    "collapsed": false
   },
   "outputs": [
   ],
   "source": [
    "#given 4 consecutive cards, we want to express its pattern this way, assuming we ask the question in the order of \"shade\", \"color\", \"shape\"\n",
    "#132421 The first two digits represent the index of the two cards with the same shade, the middle two represent the index of the two cards with the same color...\n",
    "#If we pick 4 random elements from the list such as:\n",
    "#{'shade': 'type2', 'color': 'color1', 'shape': 'shape3'}, {'shade': 'type1', 'color': 'color2', 'shape': 'shape3'}, {'shade': 'type3', 'color': 'color1', 'shape': 'shape2'}, {'shade': 'type2', 'color': 'color3', 'shape': 'shape1'}\n",
    "#we get the sequence \"[1,4,1,3,1,2]\", and this should be a unique sequence"
   ]
  },
  {
   "cell_type": "code",
   "execution_count": 8,
   "metadata": {
    "collapsed": false
   },
   "outputs": [
   ],
   "source": [
    "def produce_sequence(card_lst):\n",
    "    \"\"\"input a list of 4 dictionaries, indicating 4 cards of set, output the corresponding sequence\"\"\"\n",
    "    \"\"\"assume that exactly 2 cards have the same label\"\"\"\n",
    "    sequence = [0,0,0,0,0,0]\n",
    "    for card1, card2 in itertools.combinations(card_lst, 2):\n",
    "        shared_prop = [k for k in card1 if k in card2 and card1[k] == card2[k]]\n",
    "        if shared_prop == [\"shade\"]:\n",
    "            sequence[0] = card_lst.index(card1)+1\n",
    "            sequence[1] = card_lst.index(card2)+1\n",
    "        if shared_prop == [\"color\"]:\n",
    "            sequence[2] = card_lst.index(card1)+1\n",
    "            sequence[3] = card_lst.index(card2)+1\n",
    "        if shared_prop == [\"shape\"]:\n",
    "            sequence[4] = card_lst.index(card1)+1\n",
    "            sequence[5] = card_lst.index(card2)+1\n",
    "    return sequence"
   ]
  },
  {
   "cell_type": "code",
   "execution_count": 9,
   "metadata": {
    "collapsed": false
   },
   "outputs": [
   ],
   "source": [
    "def produce_all_sequence(card_deck):\n",
    "    try:\n",
    "        all_sequence = []\n",
    "        for i in range(len(card_deck)):\n",
    "            if i + 4 <= len(card_deck):\n",
    "                testing_sequence = card_deck[i: (i+4)]\n",
    "            else:\n",
    "                testing_sequence = card_deck[i: len(card_deck)] + card_deck[:4-(len(card_deck)-i)]\n",
    "            all_sequence.append(produce_sequence(testing_sequence))\n",
    "        return all_sequence\n",
    "    except:\n",
    "        print (\"invalid deck\")"
   ]
  },
  {
   "cell_type": "code",
   "execution_count": 10,
   "metadata": {
    "collapsed": false
   },
   "outputs": [
   ],
   "source": [
    "def check_valid(sequence_lst):\n",
    "    \"\"\"input the output from produce_all_sequence\"\"\"\n",
    "    for sequence1, sequence2 in itertools.combinations(sequence_lst, 2):\n",
    "        if sequence1 == sequence2 or 0 in sequence1 or 0 in sequence2:\n",
    "            return False\n",
    "    return True"
   ]
  },
  {
   "cell_type": "code",
   "execution_count": 45,
   "metadata": {
    "collapsed": false
   },
   "outputs": [
    {
     "ename": "KeyboardInterrupt",
     "evalue": "",
     "output_type": "error",
     "traceback": [
      "\u001b[0;31m---------------------------------------------------------------------------\u001b[0m",
      "\u001b[0;31mKeyboardInterrupt\u001b[0m                         Traceback (most recent call last)",
      "\u001b[0;32m<ipython-input-45-7c83ca6b3471>\u001b[0m in \u001b[0;36m<module>\u001b[0;34m\u001b[0m\n\u001b[1;32m      1\u001b[0m \u001b[0;31m# approach 1: random shuffling\u001b[0m\u001b[0;34m\u001b[0m\u001b[0;34m\u001b[0m\u001b[0;34m\u001b[0m\u001b[0m\n\u001b[1;32m      2\u001b[0m \u001b[0;32mfor\u001b[0m \u001b[0mi\u001b[0m \u001b[0;32min\u001b[0m \u001b[0mrange\u001b[0m\u001b[0;34m(\u001b[0m\u001b[0;36m1000000\u001b[0m\u001b[0;34m)\u001b[0m\u001b[0;34m:\u001b[0m\u001b[0;34m\u001b[0m\u001b[0;34m\u001b[0m\u001b[0m\n\u001b[0;32m----> 3\u001b[0;31m     \u001b[0mrandom\u001b[0m\u001b[0;34m.\u001b[0m\u001b[0mshuffle\u001b[0m\u001b[0;34m(\u001b[0m\u001b[0mcard_lst\u001b[0m\u001b[0;34m)\u001b[0m\u001b[0;34m\u001b[0m\u001b[0;34m\u001b[0m\u001b[0m\n\u001b[0m\u001b[1;32m      4\u001b[0m     \u001b[0msequence_lst\u001b[0m \u001b[0;34m=\u001b[0m \u001b[0mproduce_all_sequence\u001b[0m\u001b[0;34m(\u001b[0m\u001b[0mcard_lst\u001b[0m\u001b[0;34m)\u001b[0m\u001b[0;34m\u001b[0m\u001b[0;34m\u001b[0m\u001b[0m\n\u001b[1;32m      5\u001b[0m     \u001b[0;32mif\u001b[0m \u001b[0mcheck_valid\u001b[0m\u001b[0;34m(\u001b[0m\u001b[0msequence_lst\u001b[0m\u001b[0;34m)\u001b[0m\u001b[0;34m==\u001b[0m\u001b[0;32mTrue\u001b[0m\u001b[0;34m:\u001b[0m\u001b[0;34m\u001b[0m\u001b[0;34m\u001b[0m\u001b[0m\n",
      "\u001b[0;32m/usr/lib/python3.6/random.py\u001b[0m in \u001b[0;36mshuffle\u001b[0;34m(self, x, random)\u001b[0m\n\u001b[1;32m    274\u001b[0m             \u001b[0;32mfor\u001b[0m \u001b[0mi\u001b[0m \u001b[0;32min\u001b[0m \u001b[0mreversed\u001b[0m\u001b[0;34m(\u001b[0m\u001b[0mrange\u001b[0m\u001b[0;34m(\u001b[0m\u001b[0;36m1\u001b[0m\u001b[0;34m,\u001b[0m \u001b[0mlen\u001b[0m\u001b[0;34m(\u001b[0m\u001b[0mx\u001b[0m\u001b[0;34m)\u001b[0m\u001b[0;34m)\u001b[0m\u001b[0;34m)\u001b[0m\u001b[0;34m:\u001b[0m\u001b[0;34m\u001b[0m\u001b[0;34m\u001b[0m\u001b[0m\n\u001b[1;32m    275\u001b[0m                 \u001b[0;31m# pick an element in x[:i+1] with which to exchange x[i]\u001b[0m\u001b[0;34m\u001b[0m\u001b[0;34m\u001b[0m\u001b[0;34m\u001b[0m\u001b[0m\n\u001b[0;32m--> 276\u001b[0;31m                 \u001b[0mj\u001b[0m \u001b[0;34m=\u001b[0m \u001b[0mrandbelow\u001b[0m\u001b[0;34m(\u001b[0m\u001b[0mi\u001b[0m\u001b[0;34m+\u001b[0m\u001b[0;36m1\u001b[0m\u001b[0;34m)\u001b[0m\u001b[0;34m\u001b[0m\u001b[0;34m\u001b[0m\u001b[0m\n\u001b[0m\u001b[1;32m    277\u001b[0m                 \u001b[0mx\u001b[0m\u001b[0;34m[\u001b[0m\u001b[0mi\u001b[0m\u001b[0;34m]\u001b[0m\u001b[0;34m,\u001b[0m \u001b[0mx\u001b[0m\u001b[0;34m[\u001b[0m\u001b[0mj\u001b[0m\u001b[0;34m]\u001b[0m \u001b[0;34m=\u001b[0m \u001b[0mx\u001b[0m\u001b[0;34m[\u001b[0m\u001b[0mj\u001b[0m\u001b[0;34m]\u001b[0m\u001b[0;34m,\u001b[0m \u001b[0mx\u001b[0m\u001b[0;34m[\u001b[0m\u001b[0mi\u001b[0m\u001b[0;34m]\u001b[0m\u001b[0;34m\u001b[0m\u001b[0;34m\u001b[0m\u001b[0m\n\u001b[1;32m    278\u001b[0m         \u001b[0;32melse\u001b[0m\u001b[0;34m:\u001b[0m\u001b[0;34m\u001b[0m\u001b[0;34m\u001b[0m\u001b[0m\n",
      "\u001b[0;32m/usr/lib/python3.6/random.py\u001b[0m in \u001b[0;36m_randbelow\u001b[0;34m(self, n, int, maxsize, type, Method, BuiltinMethod)\u001b[0m\n\u001b[1;32m    225\u001b[0m         \u001b[0;34m\"Return a random int in the range [0,n).  Raises ValueError if n==0.\"\u001b[0m\u001b[0;34m\u001b[0m\u001b[0;34m\u001b[0m\u001b[0m\n\u001b[1;32m    226\u001b[0m \u001b[0;34m\u001b[0m\u001b[0m\n\u001b[0;32m--> 227\u001b[0;31m         \u001b[0mrandom\u001b[0m \u001b[0;34m=\u001b[0m \u001b[0mself\u001b[0m\u001b[0;34m.\u001b[0m\u001b[0mrandom\u001b[0m\u001b[0;34m\u001b[0m\u001b[0;34m\u001b[0m\u001b[0m\n\u001b[0m\u001b[1;32m    228\u001b[0m         \u001b[0mgetrandbits\u001b[0m \u001b[0;34m=\u001b[0m \u001b[0mself\u001b[0m\u001b[0;34m.\u001b[0m\u001b[0mgetrandbits\u001b[0m\u001b[0;34m\u001b[0m\u001b[0;34m\u001b[0m\u001b[0m\n\u001b[1;32m    229\u001b[0m         \u001b[0;31m# Only call self.getrandbits if the original random() builtin method\u001b[0m\u001b[0;34m\u001b[0m\u001b[0;34m\u001b[0m\u001b[0;34m\u001b[0m\u001b[0m\n",
      "\u001b[0;31mKeyboardInterrupt\u001b[0m: "
     ]
    }
   ],
   "source": [
    "# approach 1: random shuffling\n",
    "for i in range(1000000):\n",
    "    random.shuffle(card_lst)\n",
    "    sequence_lst = produce_all_sequence(card_lst)\n",
    "    if check_valid(sequence_lst)==True:\n",
    "        print (card_lst)\n",
    "#running 1000000 trials yield no results"
   ]
  },
  {
   "cell_type": "code",
   "execution_count": 28,
   "metadata": {
    "collapsed": false
   },
   "outputs": [
    {
     "data": {
      "text/plain": [
       "27"
      ]
     },
     "execution_count": 28,
     "metadata": {
     },
     "output_type": "execute_result"
    }
   ],
   "source": [
    "len(card_lst)"
   ]
  },
  {
   "cell_type": "code",
   "execution_count": 29,
   "metadata": {
    "collapsed": false,
    "scrolled": true
   },
   "outputs": [
   ],
   "source": [
    "# approach 2: adding 4 random cards at first and check if it works. then add 1 at a time and keep checking if it works\n",
    "# i ran it multiple times and the farthest it got is a deck with length of 14\n",
    "\"\"\"make sure you rerun generating card_lst bef\"\"\"\n",
    "deck = []\n",
    "while len(deck) < 4:\n",
    "    temp_sequence = random.sample(card_lst, 16)\n",
    "    deck.extend(temp_sequence)\n",
    "    sequence_lst = produce_all_sequence(deck)\n",
    "    if check_valid(sequence_lst) == False:\n",
    "        for card in temp_sequence:\n",
    "            deck.remove(card)\n",
    "    if check_valid(sequence_lst) == True:\n",
    "        for card in temp_sequence:\n",
    "            card_lst.remove(card)\n",
    "while len(deck) >= 4 and len(deck) != 27:\n",
    "    temp_sequence = random.sample(card_lst, 1)\n",
    "    deck.extend(temp_sequence)\n",
    "    sequence_lst = produce_all_sequence(deck)\n",
    "    if check_valid(sequence_lst) == False:\n",
    "        deck.remove(temp_sequence[0])\n",
    "    if check_valid(sequence_lst) == True:\n",
    "        card_lst.remove(temp_sequence[0])\n",
    "        print (len(deck))\n",
    "print (deck)"
   ]
  },
  {
   "cell_type": "code",
   "execution_count": 26,
   "metadata": {
    "collapsed": false
   },
   "outputs": [
    {
     "data": {
      "text/plain": [
       "[[1, 3, 3, 4, 2, 4],\n",
       " [1, 4, 3, 4, 1, 3],\n",
       " [1, 4, 2, 3, 3, 4],\n",
       " [2, 4, 1, 2, 2, 3],\n",
       " [2, 4, 1, 4, 1, 2]]"
      ]
     },
     "execution_count": 26,
     "metadata": {
     },
     "output_type": "execute_result"
    }
   ],
   "source": [
    "lst = [{'shade': 'type3', 'color': 'color2', 'shape': 'shape2'}, {'shade': 'type2', 'color': 'color3', 'shape': 'shape1'}, {'shade': 'type3', 'color': 'color1', 'shape': 'shape3'}, {'shade': 'type1', 'color': 'color1', 'shape': 'shape1'}, {'shade': 'type2', 'color': 'color1', 'shape': 'shape2'}]\n",
    "produce_all_sequence(lst)"
   ]
  },
  {
   "cell_type": "code",
   "execution_count": 0,
   "metadata": {
    "collapsed": false
   },
   "outputs": [
   ],
   "source": [
    "[{'shade': 'type3', 'color': 'color2', 'shape': 'shape2'}, {'shade': 'type2', 'color': 'color3', 'shape': 'shape1'}, {'shade': 'type3', 'color': 'color1', 'shape': 'shape3'}, {'shade': 'type1', 'color': 'color1', 'shape': 'shape1'}, {'shade': 'type2', 'color': 'color1', 'shape': 'shape2'}, {'shade': 'type3', 'color': 'color3', 'shape': 'shape2'}, {'shade': 'type2', 'color': 'color2', 'shape': 'shape1'}, {'shade': 'type2', 'color': 'color3', 'shape': 'shape3'}, {'shade': 'type3', 'color': 'color3', 'shape': 'shape1'}, {'shade': 'type2', 'color': 'color1', 'shape': 'shape1'}, {'shade': 'type1', 'color': 'color3', 'shape': 'shape3'}, {'shade': 'type2', 'color': 'color2', 'shape': 'shape3'}, {'shade': 'type1', 'color': 'color2', 'shape': 'shape1'}, {'shade': 'type1', 'color': 'color3', 'shape': 'shape2'}, {'shade': 'type1', 'color': 'color2', 'shape': 'shape2'}]\n"
   ]
  },
  {
   "cell_type": "code",
   "execution_count": 13,
   "metadata": {
    "collapsed": false
   },
   "outputs": [
    {
     "data": {
      "text/plain": [
       "False"
      ]
     },
     "execution_count": 13,
     "metadata": {
     },
     "output_type": "execute_result"
    }
   ],
   "source": [
    "lst = [{'shade': 'type3', 'color': 'color2', 'shape': 'shape2'}, {'shade': 'type2', 'color': 'color3', 'shape': 'shape1'}, {'shade': 'type3', 'color': 'color1', 'shape': 'shape3'}, {'shade': 'type1', 'color': 'color1', 'shape': 'shape1'}, {'shade': 'type2', 'color': 'color2', 'shape': 'shape1'}]\n",
    "check_valid(produce_all_sequence(lst))"
   ]
  },
  {
   "cell_type": "code",
   "execution_count": 0,
   "metadata": {
    "collapsed": false
   },
   "outputs": [
   ],
   "source": [
   ]
  }
 ],
 "metadata": {
  "kernelspec": {
   "display_name": "Python 3 (system-wide)",
   "language": "python",
   "metadata": {
    "cocalc": {
     "description": "Python 3 programming language",
     "priority": 100,
     "url": "https://www.python.org/"
    }
   },
   "name": "python3"
  },
  "language_info": {
   "codemirror_mode": {
    "name": "ipython",
    "version": 3
   },
   "file_extension": ".py",
   "mimetype": "text/x-python",
   "name": "python",
   "nbconvert_exporter": "python",
   "pygments_lexer": "ipython3",
   "version": "3.6.9"
  }
 },
 "nbformat": 4,
 "nbformat_minor": 4
}