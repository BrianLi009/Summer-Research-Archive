{
 "cells": [
  {
   "cell_type": "code",
   "execution_count": 2,
   "metadata": {
    "collapsed": false
   },
   "outputs": [
   ],
   "source": [
    "#we want to create a function that takes in two features and their information, and yield out the entire sequence for feature 1\n",
    "# feature1 = feature of first question (which must come before feature2)\n",
    "# feature2 = feature of second question\n",
    "def decoder(feature1, feature2, f1_lst, f2_lst):\n",
    "    # first we will determine how far apart is the 2 sequences\n",
    "    if feature1 == \"shape\":\n",
    "        value = 0\n",
    "    if feature1 == \"color\" or feature1 == \"colour\":\n",
    "        value = 1\n",
    "    if feature1 == \"number\":\n",
    "        value = 2\n",
    "    if feature1 == \"filling\":\n",
    "        value = 3\n",
    "    if feature2 == \"shape\":\n",
    "        value_2 = 0\n",
    "    if feature2 == \"color\" or feature2 == \"colour\":\n",
    "        value_2 = 1\n",
    "    if feature2 == \"number\":\n",
    "        value_2 = 2\n",
    "    if feature2 == \"filling\":\n",
    "        value_2 = 3\n",
    "    gap = value_2 - value #expect this number to be positive (because of how questions are ordered)\n",
    "    lst1_feature = \"*\"\n",
    "    lst2_feature = \"*\"\n",
    "    for item in f1_lst:\n",
    "        if item != \"*\":\n",
    "            lst1_feature = item\n",
    "    for item in f2_lst:\n",
    "        if item != \"*\":\n",
    "            lst2_feature = item\n",
    "    #now we shift the second sequence to align with the first one\n",
    "    first = f2_lst[0]\n",
    "    second = f2_lst[1]\n",
    "    third = f2_lst[2]\n",
    "    fourth = f2_lst[3]\n",
    "    if gap == 1:\n",
    "        feature2 = ['*', first, second, third]\n",
    "    if gap == 2:\n",
    "        feature2 = ['*','*', first, second]\n",
    "    if gap == 3:\n",
    "        feature2 = ['*', '*', '*', first]\n",
    "    new_lst = ['*','*','*','*']\n",
    "    for i in range(len(f1_lst)):\n",
    "        if f1_lst[i] == '*' and feature2[i] != '*':\n",
    "            new_lst[i] = (feature2[i])\n",
    "        if f1_lst[i] != '*' and feature2[i] == '*':\n",
    "            new_lst[i] = (f1_lst[i])\n",
    "    # now we want to fill out the unknown info\n",
    "    sample_lst = ['a','b','c']\n",
    "    sample_lst.remove(lst1_feature)\n",
    "    sample_lst.remove(lst2_feature)\n",
    "    # This code works assuming the hypothesis from our conversation:\n",
    "    #     If we ask about two features 'a' and 'b' then all remaining places must be 'c'.\n",
    "    for item in new_lst:\n",
    "        if item == '*':\n",
    "            new_lst[new_lst.index(item)] = sample_lst[0]\n",
    "    return new_lst"
   ]
  },
  {
   "cell_type": "code",
   "execution_count": 3,
   "metadata": {
    "collapsed": false
   },
   "outputs": [
    {
     "data": {
      "text/plain": [
       "['a', 'a', 'a', 'b']"
      ]
     },
     "execution_count": 3,
     "metadata": {
     },
     "output_type": "execute_result"
    }
   ],
   "source": [
    "decoder(\"shape\",\"filling\",['a','a','a','*'], ['*','*','c','c'])"
   ]
  },
  {
   "cell_type": "code",
   "execution_count": 0,
   "metadata": {
    "collapsed": false
   },
   "outputs": [
   ],
   "source": [
   ]
  }
 ],
 "metadata": {
  "kernelspec": {
   "display_name": "Python 3 (system-wide)",
   "language": "python",
   "metadata": {
    "cocalc": {
     "description": "Python 3 programming language",
     "priority": 100,
     "url": "https://www.python.org/"
    }
   },
   "name": "python3"
  },
  "language_info": {
   "codemirror_mode": {
    "name": "ipython",
    "version": 3
   },
   "file_extension": ".py",
   "mimetype": "text/x-python",
   "name": "python",
   "nbconvert_exporter": "python",
   "pygments_lexer": "ipython3",
   "version": "3.6.9"
  }
 },
 "nbformat": 4,
 "nbformat_minor": 4
}