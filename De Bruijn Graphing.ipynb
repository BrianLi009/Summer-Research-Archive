{
 "cells": [
  {
   "cell_type": "code",
   "execution_count": 1,
   "metadata": {
    "collapsed": false
   },
   "outputs": [
   ],
   "source": [
    "# Input window length, we should be able to genearate a graph assuming k=2\n",
    "import networkx as nx\n",
    "import numpy as np\n",
    "import matplotlib.pyplot as plt\n",
    "import math\n",
    "import itertools\n",
    "import functools\n",
    "import re\n",
    "import random\n",
    "from collections import Counter"
   ]
  },
  {
   "cell_type": "code",
   "execution_count": 2,
   "metadata": {
    "collapsed": false
   },
   "outputs": [
   ],
   "source": [
    "def turn_tuple_to_str(tuple):\n",
    "    string = ''\n",
    "    for element in tuple:\n",
    "        string += str(element)\n",
    "    return string"
   ]
  },
  {
   "cell_type": "code",
   "execution_count": 3,
   "metadata": {
    "collapsed": false
   },
   "outputs": [
   ],
   "source": [
    "def generate_vertex(k, n):\n",
    "    \"\"\"This function inputs an alphabet k and window size n, and output all nodes in the de Bruijn graph\n",
    "    >>>generate_vertex([0,1], 4)\n",
    "    >>>[(0, 0, 0), (0, 0, 1), (0, 1, 0), (0, 1, 1), (1, 0, 0), (1, 0, 1), (1, 1, 0), (1, 1, 1)]\"\"\"\n",
    "    length = n-1\n",
    "    lst = list(itertools.product(k, repeat=length))\n",
    "    return lst"
   ]
  },
  {
   "cell_type": "code",
   "execution_count": 4,
   "metadata": {
    "collapsed": false
   },
   "outputs": [
   ],
   "source": [
    "def generate_edges(k, n):\n",
    "    \"\"\"\n",
    "    >>> generate_edges(['0', '1'], 4)\n",
    "    >>> ['000----1--->001', '100----0--->000', '001----0--->010', '001----1--->011', '100----1--->001', '010----0--->100', '010----1--->101', '101----0--->010', '101----1--->011', '011----0--->110', '011----1--->111', '110----0--->100', '110----1--->101', '111----0--->110', '000----0--->000', '111----1--->111']\n",
    "    \"\"\"\n",
    "    v_lst = generate_vertex(k,n)\n",
    "    edge_lst = []\n",
    "    for v1, v2 in itertools.combinations(v_lst, 2):\n",
    "        node1_copy = v1[1:]\n",
    "        node2_copy = v2[:n-2]\n",
    "        label1 = v2[n-2]\n",
    "        node1_copy2 = v1[:n-2]\n",
    "        node2_copy2 = v2[1:]\n",
    "        label2 = v1[n-2]\n",
    "        if node1_copy == node2_copy:\n",
    "            edge_lst.append(turn_tuple_to_str(v1)+ \"----\" + label1 + \"--->\" + turn_tuple_to_str(v2))\n",
    "        if node1_copy2 == node2_copy2:\n",
    "            edge_lst.append(turn_tuple_to_str(v2)+ \"----\" + label2 + \"--->\" + turn_tuple_to_str(v1))\n",
    "    for element in k:\n",
    "        edge_lst.append((element*(n-1)) + \"----\" + element + \"--->\"+ (element*(n-1)))\n",
    "    return edge_lst"
   ]
  },
  {
   "cell_type": "code",
   "execution_count": 5,
   "metadata": {
    "collapsed": false
   },
   "outputs": [
   ],
   "source": [
    "def eulerian_path(k,n):\n",
    "    edge_lst = generate_edges(k,n)\n",
    "    new_lst = []\n",
    "    for item in edge_lst:\n",
    "        start_vertex = item[:n-1]\n",
    "        end_vertex = item[-n+1:]\n",
    "        new_lst.append((start_vertex, end_vertex))\n",
    "    random.shuffle(new_lst)\n",
    "    G = nx.DiGraph()\n",
    "    G.add_edges_from(new_lst)\n",
    "    return [u for u, v in nx.eulerian_circuit(G)]"
   ]
  },
  {
   "cell_type": "code",
   "execution_count": 6,
   "metadata": {
    "collapsed": false
   },
   "outputs": [
   ],
   "source": [
    "def generate_debruijn(k, n: int) -> str:\n",
    "    vertex_lst = eulerian_path(k,n)\n",
    "    str = ''\n",
    "    for vertex in vertex_lst:\n",
    "        str += vertex[-1]\n",
    "    return str"
   ]
  },
  {
   "cell_type": "code",
   "execution_count": 7,
   "metadata": {
    "collapsed": false
   },
   "outputs": [
    {
     "data": {
      "text/plain": [
       "'ababcbcbbcbabaabacbaccbaacbbaaaabcacbcabccbbbbabbbcaaaccacccbccaabbccccabbacaacac'"
      ]
     },
     "execution_count": 7,
     "metadata": {
     },
     "output_type": "execute_result"
    }
   ],
   "source": [
    "generate_debruijn(['a','b','c'],4)"
   ]
  },
  {
   "cell_type": "code",
   "execution_count": 8,
   "metadata": {
    "collapsed": false
   },
   "outputs": [
   ],
   "source": [
    "def summary(k, n):\n",
    "    v_lst = generate_vertex(k,n)\n",
    "    e_lst = generate_edges(k,n)\n",
    "    print (\"You have entered an alphabet of \" + str(k) + \", and you are computing for window length \" + str(n))\n",
    "    print (\"The number of vertices is \" + str(len(v_lst)) + \", they are \" + str(v_lst))\n",
    "    print (\"The number of edges is \" + str(len(e_lst)) + \", they are \" + str(e_lst))\n",
    "    print (\"Its eulerian circuit is \" + str(eulerian_path(k,n)))\n",
    "    print (\"And the de Bruijn sequence is \" + str(generate_debruijn(k,n)))"
   ]
  },
  {
   "cell_type": "code",
   "execution_count": 10,
   "metadata": {
    "collapsed": false,
    "scrolled": true
   },
   "outputs": [
    {
     "name": "stdout",
     "output_type": "stream",
     "text": [
      "You have entered an alphabet of ['2', '1', '0'], and you are computing for window length 3\n",
      "The number of vertices is 9, they are [('2', '2'), ('2', '1'), ('2', '0'), ('1', '2'), ('1', '1'), ('1', '0'), ('0', '2'), ('0', '1'), ('0', '0')]\n",
      "The number of edges is 27, they are ['22----1--->21', '22----0--->20', '12----2--->22', '02----2--->22', '21----2--->12', '12----1--->21', '21----1--->11', '21----0--->10', '02----1--->21', '12----0--->20', '20----2--->02', '02----0--->20', '20----1--->01', '20----0--->00', '11----2--->12', '01----2--->12', '11----0--->10', '01----1--->11', '10----2--->02', '10----1--->01', '01----0--->10', '10----0--->00', '00----2--->02', '00----1--->01', '22----2--->22', '11----1--->11', '00----0--->00']\n",
      "Its eulerian circuit is ['22', '20', '02', '21', '11', '11', '12', '21', '12', '20', '00', '00', '02', '20', '01', '11', '10', '00', '01', '12', '22', '21', '10', '01', '10', '02', '22']\n",
      "And the de Bruijn sequence is 220001110100210202221120121\n"
     ]
    }
   ],
   "source": [
    "summary(['2','1','0'],3)"
   ]
  },
  {
   "cell_type": "code",
   "execution_count": 1,
   "metadata": {
    "collapsed": false
   },
   "outputs": [
   ],
   "source": [
    "def get_as_many_bruijn(k,n):\n",
    "    total_num = (math.factorial(len(k))**(len(k)**(n-1))/(len(k)**n))\n",
    "    print (\"in total \" + str(total_num) + \" de Bruijn sequences\")\n",
    "    output = []\n",
    "    while len(output) < 100:\n",
    "        sequence = generate_debruijn(k,n)\n",
    "        if sequence not in output:\n",
    "            output.append(sequence)\n",
    "    return output"
   ]
  },
  {
   "cell_type": "code",
   "execution_count": 11,
   "metadata": {
    "collapsed": false
   },
   "outputs": [
   ],
   "source": [
    "def valid_4d_sequence(lst1,lst2,lst3,lst4):\n",
    "    \"\"\"these 4 lists are 4 de Bruijn sequence of the same length, we need to check if it is valid in the context of the game SET\"\"\"\n",
    "    compare_item = []\n",
    "    for i in range(len(lst1)):\n",
    "        if [lst1[i],lst2[i],lst3[i],lst4[i]] not in compare_item:\n",
    "            compare_item.append([lst1[i],lst2[i],lst3[i],lst4[i]])\n",
    "        else:\n",
    "            return False\n",
    "    return True"
   ]
  },
  {
   "cell_type": "code",
   "execution_count": 12,
   "metadata": {
    "collapsed": false
   },
   "outputs": [
   ],
   "source": [
    "def find_valid_sequence(lst):\n",
    "    \"\"\"input a list in the format of the output in get_as_many_debruijn\"\"\"\n",
    "    i = 0\n",
    "    for lst1, lst2, lst3, lst4 in itertools.combinations(lst, 4):\n",
    "        i += 1\n",
    "        if valid_4d_sequence(lst1,lst2,lst3,lst4):\n",
    "            print ([lst1,lst2,lst3,lst4])\n",
    "            return True\n",
    "        if i%1000000 == 0:\n",
    "            print (i)\n",
    "    return False"
   ]
  },
  {
   "cell_type": "code",
   "execution_count": 13,
   "metadata": {
    "collapsed": false,
    "scrolled": true
   },
   "outputs": [
   ],
   "source": [
    "def shift_sequence(sequence, position):\n",
    "    return sequence[-position:] + sequence[:len(sequence)-position]"
   ]
  },
  {
   "cell_type": "code",
   "execution_count": 14,
   "metadata": {
    "collapsed": false
   },
   "outputs": [
   ],
   "source": [
    "def valid_2d_sequence(lst1,lst2):\n",
    "    \"\"\"these 4 lists are 4 de Bruijn sequence of the same length, we need to check if it is valid in the context of the game SET\"\"\"\n",
    "    compare_item = []\n",
    "    for i in range(len(lst1)):\n",
    "        compare_item.append([lst1[i],lst2[i]])\n",
    "    if compare_item.count(['a','a']) == compare_item.count(['b','b']) == compare_item.count(['c','c']) == compare_item.count(['a','b']) == compare_item.count(['a','c']) == compare_item.count(['b','a']) == compare_item.count(['c','a']) == compare_item.count(['b','c']) == compare_item.count(['c','b']) == 9:\n",
    "        return True\n",
    "    return False"
   ]
  },
  {
   "cell_type": "code",
   "execution_count": 15,
   "metadata": {
    "collapsed": false
   },
   "outputs": [
   ],
   "source": [
    "def valid_2d_sequence(lst1,lst2,lst3):\n",
    "    \"\"\"these 4 lists are 4 de Bruijn sequence of the same length, we need to check if it is valid in the context of the game SET\"\"\"\n",
    "    compare_item = []\n",
    "    for i in range(len(lst1)):\n",
    "        compare_item.append([lst1[i],lst2[i],lst3[i]])\n",
    "    if compare_item.count(['a','a']) == compare_item.count(['b','b']) == compare_item.count(['c','c']) == compare_item.count(['a','b']) == compare_item.count(['a','c']) == compare_item.count(['b','a']) == compare_item.count(['c','a']) == compare_item.count(['b','c']) == compare_item.count(['c','b']) == 9:\n",
    "        return True\n",
    "    return False"
   ]
  },
  {
   "cell_type": "code",
   "execution_count": 16,
   "metadata": {
    "collapsed": false
   },
   "outputs": [
   ],
   "source": [
    "def find_valid_by_shifting(seq):\n",
    "    # idea: if we look at 2 sequence, vertically it must have the same number of aa, bb, cc, ab, ba, ac, ca, bc, cb, each one appears 81/9 = 9 times\n",
    "    shifted_seq1 = shift_sequence(seq, 80)\n",
    "    shifted_seq2 = shift_sequence(seq, 79)\n",
    "    shifted_seq3 = shift_sequence(seq, 78)\n",
    "    if valid_4d_sequence(seq, shifted_seq1, shifted_seq2, shifted_seq3):\n",
    "        return [seq, shifted_seq1, shifted_seq2, shifted_seq3]"
   ]
  },
  {
   "cell_type": "code",
   "execution_count": 17,
   "metadata": {
    "collapsed": false
   },
   "outputs": [
    {
     "data": {
      "text/plain": [
       "\"output = get_as_many_bruijn(['a','b','c'], 4)\""
      ]
     },
     "execution_count": 17,
     "metadata": {
     },
     "output_type": "execute_result"
    }
   ],
   "source": [
    "\"\"\"output = get_as_many_bruijn(['a','b','c'], 4)\"\"\""
   ]
  },
  {
   "cell_type": "code",
   "execution_count": 18,
   "metadata": {
    "collapsed": false
   },
   "outputs": [
    {
     "data": {
      "text/plain": [
       "'lst = []\\nfor debruijn in output:\\n    lst.append(find_valid_by_shifting(debruijn))'"
      ]
     },
     "execution_count": 18,
     "metadata": {
     },
     "output_type": "execute_result"
    }
   ],
   "source": [
    "\"\"\"lst = []\n",
    "for debruijn in output:\n",
    "    lst.append(find_valid_by_shifting(debruijn))\"\"\""
   ]
  },
  {
   "cell_type": "code",
   "execution_count": 19,
   "metadata": {
    "collapsed": false
   },
   "outputs": [
    {
     "data": {
      "text/plain": [
       "'len(lst)'"
      ]
     },
     "execution_count": 19,
     "metadata": {
     },
     "output_type": "execute_result"
    }
   ],
   "source": [
    "\"\"\"len(lst)\"\"\""
   ]
  },
  {
   "cell_type": "code",
   "execution_count": 20,
   "metadata": {
    "collapsed": false
   },
   "outputs": [
    {
     "data": {
      "text/plain": [
       "True"
      ]
     },
     "execution_count": 20,
     "metadata": {
     },
     "output_type": "execute_result"
    }
   ],
   "source": [
    "lst1='acbccccbcbcabcaacabbacaaaacccaabccabacbbaaabaabbbababbccbbcacacbaccaccbabcbbbbcba'\n",
    "lst2='bccccbcbcabcaacabbacaaaacccaabccabacbbaaabaabbbababbccbbcacacbaccaccbabcbbbbcbaac'\n",
    "lst3='ccccbcbcabcaacabbacaaaacccaabccabacbbaaabaabbbababbccbbcacacbaccaccbabcbbbbcbaacb'\n",
    "lst4='cbccccbcbcabcaacabbacaaaacccaabccabacbbaaabaabbbababbccbbcacacbaccaccbabcbbbbcbaa'\n",
    "valid_4d_sequence(lst1,lst2,lst3,lst4)"
   ]
  },
  {
   "cell_type": "code",
   "execution_count": 21,
   "metadata": {
    "collapsed": false
   },
   "outputs": [
   ],
   "source": [
    "def answer_1(seq):\n",
    "    lst_1 = [0,0,0,0]\n",
    "    convert = list(seq)\n",
    "    for i in range(len(convert)):\n",
    "        if convert[i] == 'a':\n",
    "            lst_1[i]=1\n",
    "    return lst_1"
   ]
  },
  {
   "cell_type": "code",
   "execution_count": 22,
   "metadata": {
    "collapsed": false
   },
   "outputs": [
   ],
   "source": [
    "def answer_2(seq):\n",
    "    lst_1 = [0,0,0,0]\n",
    "    convert = list(seq)\n",
    "    for i in range(len(convert)):\n",
    "        if convert[i] == 'b':\n",
    "            lst_1[i]=1\n",
    "    return lst_1"
   ]
  },
  {
   "cell_type": "code",
   "execution_count": 23,
   "metadata": {
    "collapsed": false
   },
   "outputs": [
    {
     "data": {
      "text/plain": [
       "['a', 'c', 'b', 'c']"
      ]
     },
     "execution_count": 23,
     "metadata": {
     },
     "output_type": "execute_result"
    }
   ],
   "source": [
    "lst = ['a','c','b','c', 'd', 'c', 's']\n",
    "lst[0:4]"
   ]
  },
  {
   "cell_type": "code",
   "execution_count": 0,
   "metadata": {
    "collapsed": false
   },
   "outputs": [
   ],
   "source": [
   ]
  },
  {
   "cell_type": "code",
   "execution_count": 24,
   "metadata": {
    "collapsed": false
   },
   "outputs": [
   ],
   "source": [
    "def count_answer(str_1, str_2):\n",
    "    big_lst = []\n",
    "    lst_1 = list(str_1)\n",
    "    lst_2 = list(str_2)\n",
    "    for i in range(len(str_1)-3):\n",
    "        seq_1 = lst_1[i:i+4]\n",
    "        ans_1 = answer_1(seq_1)\n",
    "        seq_2 = lst_2[i:i+4]\n",
    "        ans_2 = answer_2(seq_2)\n",
    "        combine = ans_1 + ans_2\n",
    "        if combine not in big_lst:\n",
    "            big_lst.append(combine)\n",
    "    ans_1 = answer_1(lst_1[78:81] + [lst1[0]])\n",
    "    ans_2 = answer_2(lst_2[78:81] + [lst2[0]])\n",
    "    combine = ans_1 + ans_2\n",
    "    if combine not in big_lst:\n",
    "        big_lst.append(combine)\n",
    "    ans_1 = answer_1(lst_1[79:81] + lst_1[0:2])\n",
    "    ans_2 = answer_2(lst_2[79:81] + lst_2[0:2])\n",
    "    combine = ans_1 + ans_2\n",
    "    if combine not in big_lst:\n",
    "        big_lst.append(combine)\n",
    "    ans_1 = answer_1(lst_1[80:81] + lst_1[0:3])\n",
    "    ans_2 = answer_2(lst_2[80:81] + lst_2[0:3])\n",
    "    combine = ans_1 + ans_2\n",
    "    if combine not in big_lst:\n",
    "        big_lst.append(combine)\n",
    "    if len(big_lst) == 81:\n",
    "        print (str_1)\n",
    "    return len(big_lst)"
   ]
  },
  {
   "cell_type": "code",
   "execution_count": 34,
   "metadata": {
    "collapsed": false
   },
   "outputs": [
    {
     "name": "stdout",
     "output_type": "stream",
     "text": [
      "in total 1.2635683568857645e+19 de Bruijn sequences\n"
     ]
    },
    {
     "name": "stdout",
     "output_type": "stream",
     "text": [
      "baccbacaaaaccccbcbababcbccbbbbabbbcbbacbcaacbaacacabcaccacbbcabaaabcccabbccaabbaa\n",
      "accbacaaaaccccbcbababcbccbbbbabbbcbbacbcaacbaacacabcaccacbbcabaaabcccabbccaabbaab\n",
      "ccbacaaaaccccbcbababcbccbbbbabbbcbbacbcaacbaacacabcaccacbbcabaaabcccabbccaabbaaba\n"
     ]
    },
    {
     "name": "stdout",
     "output_type": "stream",
     "text": [
      "baccaaaacacaaccccaccbcbcccbbbbcbbccbacabccababcbabaacbcabbbabbcacbbacbaaabcaabbaa\n",
      "accaaaacacaaccccaccbcbcccbbbbcbbccbacabccababcbabaacbcabbbabbcacbbacbaaabcaabbaab\n",
      "ccaaaacacaaccccaccbcbcccbbbbcbbccbacabccababcbabaacbcabbbabbcacbbacbaaabcaabbaaba\n"
     ]
    },
    {
     "name": "stdout",
     "output_type": "stream",
     "text": [
      "aaaaccaccccaacacaaabccabcaabacababcbcbbbbcbaccbcccbbccbabaacbcacbaabbcabbbacbbabb\n"
     ]
    },
    {
     "name": "stdout",
     "output_type": "stream",
     "text": [
      "baaaacaaabcaacbacacabcbabccaabbcabbacbcacbbcbcbbabbbccbccccbbbbaabaacccababaccacc\n"
     ]
    },
    {
     "name": "stdout",
     "output_type": "stream",
     "text": [
      "aabaacbaabbaaaaccaacaabccacaccbababcbacccabacabcacbbabbccbbcabbbcbbbbacbccccbcbca\n"
     ]
    },
    {
     "name": "stdout",
     "output_type": "stream",
     "text": [
      "babaaaacaccacaaabacababcbcbabbaabcacbaaccccabccaacbcaabbcabbbbcbbaccbcccbacbbccbb\n"
     ]
    },
    {
     "name": "stdout",
     "output_type": "stream",
     "text": [
      "bababcacaccbcabacabcbcbaccccbbbbabbbcbbcaacaaaaccaabaaabcccacbbacbaacbccabbaabbcc\n",
      "ababcacaccbcabacabcbcbaccccbbbbabbbcbbcaacaaaaccaabaaabcccacbbacbaacbccabbaabbccb\n"
     ]
    },
    {
     "name": "stdout",
     "output_type": "stream",
     "text": [
      "aaaacacaaccccaccaaabcaabacabcccbaccbccbbbbccababcbcbbcbabaacbcacbaabbcabbbacbbabb\n"
     ]
    },
    {
     "name": "stdout",
     "output_type": "stream",
     "text": [
      "bababcaacaccccacaaaaccaabcccbabbaccbcacbccbbaaabacabaacbaabbccabcbcbacbbcabbbcbbb\n",
      "ababcaacaccccacaaaaccaabcccbabbaccbcacbccbbaaabacabaacbaabbccabcbcbacbbcabbbcbbbb\n",
      "babcaacaccccacaaaaccaabcccbabbaccbcacbccbbaaabacabaacbaabbccabcbcbacbbcabbbcbbbba\n"
     ]
    },
    {
     "name": "stdout",
     "output_type": "stream",
     "text": [
      "abaaaacacaaccaaabcaabbaabacababccaccbccbbabbbacccabbccccbaacbcacbacbbcabcbcbbbbcb\n",
      "baaaacacaaccaaabcaabbaabacababccaccbccbbabbbacccabbccccbaacbcacbacbbcabcbcbbbbcba\n"
     ]
    },
    {
     "name": "stdout",
     "output_type": "stream",
     "text": [
      "bccaaabaacbaabbaaaacacababacaaccaccbaccccabbcaabcacbbacbcabcccbccbbcbabbbabcbcbbb\n",
      "bccaaabaacbaabbaaaacacababacaaccaccbaccccabbcaabcacbbacbcabcccbccbbcbabbbabcbcbbb\n"
     ]
    },
    {
     "name": "stdout",
     "output_type": "stream",
     "text": [
      "bccccbbbbccbcbbcbcaacaaaacccaabbcabbbaaabaacbbabbacababaccbaabccabcbabcacaccacbac\n"
     ]
    },
    {
     "name": "stdout",
     "output_type": "stream",
     "text": [
      "aacbccccbbccbcbbbbcbcabbcaaaacababaacccabccaabaccbabcbacbaaabcacaccacbbabbbaabbac\n"
     ]
    },
    {
     "name": "stdout",
     "output_type": "stream",
     "text": [
      "baaaaccaccccababaccbcbcccbbcbbbbccbaacacabcbabccaacbcabbcacbacbbabbbacaaabbaabcaa\n"
     ]
    },
    {
     "name": "stdout",
     "output_type": "stream",
     "text": [
      "baaaacacaaabacababaacbcacbaabcaaccccbcbcccaccaabbcabccabbaccbacbbccbbabcbabbbcbbb\n"
     ]
    },
    {
     "name": "stdout",
     "output_type": "stream",
     "text": [
      "0\n",
      "0\n",
      "0\n",
      "67\n",
      "mean: 48.5551\n",
      "median: 47.0\n",
      "standard deviation: 1.8381740913199707\n"
     ]
    }
   ],
   "source": [
    "plot_lst = []\n",
    "possible = []\n",
    "for sequence in get_as_many_bruijn(['a','b','c'],4):\n",
    "    shifted_1 = shift_sequence(sequence, 80)\n",
    "    shifted_2 = shift_sequence(sequence, 79)\n",
    "    shifted_3 = shift_sequence(sequence, 78)\n",
    "    possible.append(count_answer(sequence, shifted_1))\n",
    "    possible.append(count_answer(sequence, shifted_2))\n",
    "    possible.append(count_answer(sequence, shifted_3))\n",
    "    possible.append(count_answer(shifted_1, shifted_2))\n",
    "    possible.append(count_answer(shifted_1, shifted_3))\n",
    "    possible.append(count_answer(shifted_2, shifted_3))\n",
    "    plot_lst.append(min(possible))\n",
    "\"\"\"counted = Counter(plot_lst)\n",
    "for item in counted:\n",
    "    plt.bar(item, counted[item])\n",
    "plt.show()\"\"\"\n",
    "\n",
    "#conversion for stats calculation\n",
    "print (plot_lst.count(79))\n",
    "print (plot_lst.count(80))\n",
    "print (plot_lst.count(81))\n",
    "print (max(plot_lst))\n",
    "print ('mean: ' + str(np.mean(plot_lst)))\n",
    "print ('median: ' + str(np.median(plot_lst)))\n",
    "print ('standard deviation: ' + str(np.std(plot_lst)))"
   ]
  },
  {
   "cell_type": "code",
   "execution_count": 1,
   "metadata": {
    "collapsed": false
   },
   "outputs": [
    {
     "ename": "NameError",
     "evalue": "name 'count_answer' is not defined",
     "output_type": "error",
     "traceback": [
      "\u001b[0;31m---------------------------------------------------------------------------\u001b[0m",
      "\u001b[0;31mNameError\u001b[0m                                 Traceback (most recent call last)",
      "\u001b[0;32m<ipython-input-1-bb68ac2d0147>\u001b[0m in \u001b[0;36m<module>\u001b[0;34m\u001b[0m\n\u001b[1;32m      1\u001b[0m \u001b[0ma\u001b[0m \u001b[0;34m=\u001b[0m \u001b[0;34m'acbccccbcbcabcaacabbacaaaacccaabccabacbbaaabaabbbababbccbbcacacbaccaccbabcbbbbcba'\u001b[0m\u001b[0;34m\u001b[0m\u001b[0;34m\u001b[0m\u001b[0m\n\u001b[1;32m      2\u001b[0m \u001b[0mb\u001b[0m \u001b[0;34m=\u001b[0m \u001b[0;34m'cbccccbcbcabcaacabbacaaaacccaabccabacbbaaabaabbbababbccbbcacacbaccaccbabcbbbbcbaa'\u001b[0m\u001b[0;34m\u001b[0m\u001b[0;34m\u001b[0m\u001b[0m\n\u001b[0;32m----> 3\u001b[0;31m \u001b[0mcount_answer\u001b[0m\u001b[0;34m(\u001b[0m\u001b[0ma\u001b[0m\u001b[0;34m,\u001b[0m\u001b[0mb\u001b[0m\u001b[0;34m)\u001b[0m\u001b[0;34m\u001b[0m\u001b[0;34m\u001b[0m\u001b[0m\n\u001b[0m",
      "\u001b[0;31mNameError\u001b[0m: name 'count_answer' is not defined"
     ]
    }
   ],
   "source": [
    "a = 'acbccccbcbcabcaacabbacaaaacccaabccabacbbaaabaabbbababbccbbcacacbaccaccbabcbbbbcba'\n",
    "b = 'cbccccbcbcabcaacabbacaaaacccaabccabacbbaaabaabbbababbccbbcacacbaccaccbabcbbbbcbaa'\n",
    "count_answer(a,b)"
   ]
  },
  {
   "cell_type": "code",
   "execution_count": 0,
   "metadata": {
    "collapsed": false
   },
   "outputs": [
   ],
   "source": [
   ]
  }
 ],
 "metadata": {
  "kernelspec": {
   "display_name": "Python 3 (system-wide)",
   "language": "python",
   "metadata": {
    "cocalc": {
     "description": "Python 3 programming language",
     "priority": 100,
     "url": "https://www.python.org/"
    }
   },
   "name": "python3"
  },
  "language_info": {
   "codemirror_mode": {
    "name": "ipython",
    "version": 3
   },
   "file_extension": ".py",
   "mimetype": "text/x-python",
   "name": "python",
   "nbconvert_exporter": "python",
   "pygments_lexer": "ipython3",
   "version": "3.6.9"
  }
 },
 "nbformat": 4,
 "nbformat_minor": 4
}