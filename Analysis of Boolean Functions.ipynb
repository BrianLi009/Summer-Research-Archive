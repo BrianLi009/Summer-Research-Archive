{
 "cells": [
  {
   "cell_type": "code",
   "execution_count": 5,
   "metadata": {
    "collapsed": false
   },
   "outputs": [
   ],
   "source": [
    "import numpy as np\n",
    "import matplotlib.pyplot as plt\n",
    "import math\n",
    "import itertools\n",
    "import random"
   ]
  },
  {
   "cell_type": "code",
   "execution_count": 2,
   "metadata": {
    "collapsed": false
   },
   "outputs": [
   ],
   "source": [
    "\"\"\"Let's start by creating a Boolean Function with 2 variables using dictionary\"\"\"\n",
    "def generate(dim):\n",
    "    combinations = list(itertools.product([0, 1], repeat=dim)) #this gives you a list of tuple with all the binary combinations with length = dim\n",
    "    dict = {}\n",
    "    for tuple in combinations:\n",
    "        dict[tuple]=(random.getrandbits(1)) # this creates a \"random function\"\n",
    "    return dict"
   ]
  },
  {
   "cell_type": "code",
   "execution_count": 3,
   "metadata": {
    "collapsed": false
   },
   "outputs": [
   ],
   "source": [
    "def all_one_boolean_function(dim):\n",
    "    \"\"\"this function simulate a boolean function \"Is everything equal to one?\"\"\"\n",
    "    combinations = list(itertools.product([0, 1], repeat=dim)) #this gives you a list of tuple with all the binary combinations with length = dim\n",
    "    dict = {}\n",
    "    for tuple in combinations:\n",
    "        if 1 not in tuple:\n",
    "            dict[tuple] = 1\n",
    "        else:\n",
    "            dict[tuple] = 0\n",
    "    return dict"
   ]
  },
  {
   "cell_type": "code",
   "execution_count": 4,
   "metadata": {
    "collapsed": false
   },
   "outputs": [
   ],
   "source": [
    "def even_or_odd(dim):\n",
    "    \"\"\"this function simulate a boolean function \"Even or Odd\"\"\"\n",
    "    combinations = list(itertools.product([0, 1], repeat=dim)) #this gives you a list of tuple with all the binary combinations with length = dim\n",
    "    dict = {}\n",
    "    for tuple in combinations:\n",
    "        if math.fsum(tuple)%2 == 0:\n",
    "            dict[tuple] = 0\n",
    "        else:\n",
    "            dict[tuple] = 1\n",
    "    return dict"
   ]
  },
  {
   "cell_type": "code",
   "execution_count": 6,
   "metadata": {
    "collapsed": false
   },
   "outputs": [
   ],
   "source": [
    "def majority_one(dim):\n",
    "    \"\"\"this function simulate a boolean function \"Are the majority of the inputs one\"\"\"\n",
    "    combinations = list(itertools.product([0, 1], repeat=dim)) #this gives you a list of tuple with all the binary combinations with length = dim\n",
    "    dict = {}\n",
    "    for tuple in combinations:\n",
    "        if tuple.count(1) > tuple.count(0):\n",
    "            dict[tuple] = 1\n",
    "        else:\n",
    "            dict[tuple] = 0\n",
    "    return dict"
   ]
  },
  {
   "cell_type": "code",
   "execution_count": 7,
   "metadata": {
    "collapsed": false
   },
   "outputs": [
    {
     "data": {
      "text/plain": [
       "6.0"
      ]
     },
     "execution_count": 7,
     "metadata": {
     },
     "output_type": "execute_result"
    }
   ],
   "source": [
    "math.fsum((1,2,3))"
   ]
  },
  {
   "cell_type": "code",
   "execution_count": 8,
   "metadata": {
    "collapsed": false
   },
   "outputs": [
   ],
   "source": [
    "def edit_tuple(t, index, new):\n",
    "    lst = list(t)\n",
    "    lst[index] = new\n",
    "    return tuple(lst)"
   ]
  },
  {
   "cell_type": "code",
   "execution_count": 9,
   "metadata": {
    "collapsed": false
   },
   "outputs": [
   ],
   "source": [
    "function = majority_one(7)"
   ]
  },
  {
   "cell_type": "code",
   "execution_count": 10,
   "metadata": {
    "collapsed": false,
    "scrolled": true
   },
   "outputs": [
   ],
   "source": [
    "def calculate_influence(dict, bit):\n",
    "    \"\"\"calculate influence when one bit is flipped\"\"\"\n",
    "    count = 0\n",
    "    total = 0\n",
    "    for item in dict:\n",
    "        original = dict[item]\n",
    "        if item[bit]==0:\n",
    "            item = edit_tuple(item, bit, 1)\n",
    "        else:\n",
    "            item = edit_tuple(item, bit, 0)\n",
    "        if dict[item] != original:\n",
    "            count += 1\n",
    "            total += 1\n",
    "        else:\n",
    "            total +=1\n",
    "    return count / total;"
   ]
  },
  {
   "cell_type": "code",
   "execution_count": 11,
   "metadata": {
    "collapsed": false
   },
   "outputs": [
    {
     "data": {
      "text/plain": [
       "0.3125"
      ]
     },
     "execution_count": 11,
     "metadata": {
     },
     "output_type": "execute_result"
    }
   ],
   "source": [
    "calculate_influence(function,1)"
   ]
  },
  {
   "cell_type": "code",
   "execution_count": 12,
   "metadata": {
    "collapsed": false
   },
   "outputs": [
   ],
   "source": [
    "def calculate_total_influence(dict):\n",
    "    total = 0\n",
    "    length = len(next(iter(dict)))\n",
    "    for i in range(length):\n",
    "        #print (\"bit\" + str(i) + \" has influence \" + str(calculate_influence(dict, i)))\n",
    "        total += calculate_influence(dict, i)\n",
    "    return total"
   ]
  },
  {
   "cell_type": "code",
   "execution_count": 13,
   "metadata": {
    "collapsed": false
   },
   "outputs": [
    {
     "data": {
      "text/plain": [
       "2.1875"
      ]
     },
     "execution_count": 13,
     "metadata": {
     },
     "output_type": "execute_result"
    }
   ],
   "source": [
    "calculate_total_influence(function)"
   ]
  },
  {
   "cell_type": "code",
   "execution_count": 50,
   "metadata": {
    "collapsed": false
   },
   "outputs": [
   ],
   "source": [
    "def influence_plot():\n",
    "    for bits in range(21):\n",
    "        x_value = bits\n",
    "        dict = majority_one(bits)\n",
    "        y_value = calculate_total_influence(dict)\n",
    "        #print (y_value)\n",
    "        plt.scatter(x_value, y_value)\n",
    "    plt.xlabel('dimensions', fontsize=16)\n",
    "    plt.ylabel('total influence', fontsize=16)\n",
    "    plt.show()"
   ]
  },
  {
   "cell_type": "code",
   "execution_count": 51,
   "metadata": {
    "collapsed": false,
    "scrolled": true
   },
   "outputs": [
   ],
   "source": [
    "influence_plot()"
   ]
  },
  {
   "cell_type": "code",
   "execution_count": 0,
   "metadata": {
    "collapsed": false
   },
   "outputs": [
   ],
   "source": [
   ]
  },
  {
   "cell_type": "code",
   "execution_count": 0,
   "metadata": {
    "collapsed": false
   },
   "outputs": [
   ],
   "source": [
   ]
  },
  {
   "cell_type": "code",
   "execution_count": 0,
   "metadata": {
    "collapsed": false
   },
   "outputs": [
   ],
   "source": [
   ]
  }
 ],
 "metadata": {
  "kernelspec": {
   "display_name": "Python 3 (system-wide)",
   "language": "python",
   "metadata": {
    "cocalc": {
     "description": "Python 3 programming language",
     "priority": 100,
     "url": "https://www.python.org/"
    }
   },
   "name": "python3"
  },
  "language_info": {
   "codemirror_mode": {
    "name": "ipython",
    "version": 3
   },
   "file_extension": ".py",
   "mimetype": "text/x-python",
   "name": "python",
   "nbconvert_exporter": "python",
   "pygments_lexer": "ipython3",
   "version": "3.6.9"
  }
 },
 "nbformat": 4,
 "nbformat_minor": 4
}